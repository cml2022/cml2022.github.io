{
  "cells": [
    {
      "cell_type": "markdown",
      "source": [
        "# LAB 02: Python Intro (Contd.)\n",
        "\n",
        "This week's topic is the Data Types. The datatypes are the lexical items of programming languages. In order to make a logical operation, these items are crutial. The main ones are listed at the below\n",
        "\n",
        "## Data Types\n",
        "\n",
        "1.  String\n",
        "1.  List\n",
        "1.  Dictionary\n"
      ],
      "metadata": {
        "id": "k9WUXxp1unmd"
      }
    },
    {
      "cell_type": "markdown",
      "source": [
        "It is a ritualistic process to write a 'Hello World!' when you are starting a new programming language. Soo.."
      ],
      "metadata": {
        "id": "72GufnayNtW_"
      }
    },
    {
      "cell_type": "code",
      "source": [
        ""
      ],
      "metadata": {
        "id": "3QR_yOUTwEDJ"
      },
      "execution_count": null,
      "outputs": []
    },
    {
      "cell_type": "markdown",
      "source": [
        "## Lists"
      ],
      "metadata": {
        "id": "KWxkSiPiEXKD"
      }
    },
    {
      "cell_type": "markdown",
      "source": [
        "Before we go to the next operation, a quick reminder of `lists` from last week.\n",
        "\n",
        "Lists are the containers that can store different objects within them"
      ],
      "metadata": {
        "id": "noUK9xsoQphf"
      }
    },
    {
      "cell_type": "markdown",
      "source": [
        "### Task 1 - Create a List"
      ],
      "metadata": {
        "id": "SADtzjqpaYRb"
      }
    },
    {
      "cell_type": "code",
      "source": [
        "my_list = []"
      ],
      "metadata": {
        "id": "UC-INUBqOocr"
      },
      "execution_count": null,
      "outputs": []
    },
    {
      "cell_type": "markdown",
      "source": [
        "And what else you remember from last weeks Lab session?"
      ],
      "metadata": {
        "id": "3zOdN-xYafy3"
      }
    },
    {
      "cell_type": "code",
      "source": [
        ""
      ],
      "metadata": {
        "id": "viccAqPDaorI"
      },
      "execution_count": null,
      "outputs": []
    },
    {
      "cell_type": "markdown",
      "source": [
        "A piece of information is that we use `range()` function to get these indices without writing them one by one\n",
        "\n",
        "- The function has parameters as\n",
        "```\n",
        "range(\n",
        "      start_index,\n",
        "      end_index,\n",
        "      increment\n",
        ")\n",
        "```"
      ],
      "metadata": {
        "id": "mAKvbPVPUA-W"
      }
    },
    {
      "cell_type": "code",
      "source": [
        "list(range(0,5,2))"
      ],
      "metadata": {
        "id": "G5d0-ntaURIj"
      },
      "execution_count": null,
      "outputs": []
    },
    {
      "cell_type": "markdown",
      "source": [
        "I decided that I don't want the strings which are the last two items of this list. So how can I get them?  "
      ],
      "metadata": {
        "id": "v-smRkblWqxT"
      }
    },
    {
      "cell_type": "markdown",
      "source": [
        "### List Methods\n",
        "\n",
        "I will you the most popular ones\n",
        "\n",
        "1. .append()\n",
        "1. .remove()\n",
        "1. .extend()\n",
        "1. .sorted()"
      ],
      "metadata": {
        "id": "yycJezDVjWFf"
      }
    },
    {
      "cell_type": "code",
      "source": [
        "my_list.append(\"string\")\n",
        "my_list.append(\"another string\")\n",
        "my_list"
      ],
      "metadata": {
        "id": "ukML39S_jUWG"
      },
      "execution_count": null,
      "outputs": []
    },
    {
      "cell_type": "code",
      "source": [
        "my_list.remove(\"string\")\n",
        "my_list"
      ],
      "metadata": {
        "id": "mr2-G7QnUH1X"
      },
      "execution_count": null,
      "outputs": []
    },
    {
      "cell_type": "code",
      "source": [
        "another_list = [\"1\", \"2\", \"3\", \"4\"]\n",
        "another_list.extend(my_list)\n",
        "another_list"
      ],
      "metadata": {
        "id": "TF3Vb-rVURot"
      },
      "execution_count": null,
      "outputs": []
    },
    {
      "cell_type": "code",
      "source": [
        "sorted(my_list)"
      ],
      "metadata": {
        "id": "Br9i2K0KTErb"
      },
      "execution_count": null,
      "outputs": []
    },
    {
      "cell_type": "markdown",
      "source": [
        "Let's tackle our last question with our new-found methods"
      ],
      "metadata": {
        "id": "P5ER37oGXKtd"
      }
    },
    {
      "cell_type": "code",
      "source": [
        "a_copy_of_my_list = []\n",
        "positions_that_i_want = [...]\n",
        "for position in positions_that_i_want:\n",
        "  a_copy_of_my_list.append(my_list[position])"
      ],
      "metadata": {
        "id": "v9mwCuCqXXZE"
      },
      "execution_count": null,
      "outputs": []
    },
    {
      "cell_type": "code",
      "source": [
        "a_copy_of_my_list"
      ],
      "metadata": {
        "id": "GpKGnqCaXp_a"
      },
      "execution_count": null,
      "outputs": []
    },
    {
      "cell_type": "markdown",
      "source": [
        "There is a way that we can do "
      ],
      "metadata": {
        "id": "HnEgAHk0VSBq"
      }
    },
    {
      "cell_type": "code",
      "source": [
        "another_copy_of_my_list = my_list[0:4]\n",
        "another_copy_of_my_list"
      ],
      "metadata": {
        "id": "fOzXO7Z4VRys"
      },
      "execution_count": null,
      "outputs": []
    },
    {
      "cell_type": "markdown",
      "source": [
        "The statement of `[x:y]` means that the selected items at the positions from `x to y-1`"
      ],
      "metadata": {
        "id": "3z6dzcp7YLbO"
      }
    },
    {
      "cell_type": "markdown",
      "source": [
        "We can also do the reverse the items on the list as well"
      ],
      "metadata": {
        "id": "gfhyEDRLZUb_"
      }
    },
    {
      "cell_type": "code",
      "source": [
        "my_list[4:0]"
      ],
      "metadata": {
        "id": "t81x5NV1ZSoc"
      },
      "execution_count": null,
      "outputs": []
    },
    {
      "cell_type": "markdown",
      "source": [
        "But we use a special key to that as `[x:y:z]`.\n",
        "\n",
        "`z` means the increment of the positions"
      ],
      "metadata": {
        "id": "DNF0lQ6KZ9wG"
      }
    },
    {
      "cell_type": "code",
      "source": [
        "my_list[4:0:-1]"
      ],
      "metadata": {
        "id": "kR1QoFRwZfoQ"
      },
      "execution_count": null,
      "outputs": []
    },
    {
      "cell_type": "markdown",
      "source": [
        "### Q1 - Odd or Even"
      ],
      "metadata": {
        "id": "xQkQabK9J3BF"
      }
    },
    {
      "cell_type": "code",
      "source": [
        "numbers = list(range(10+1))\n",
        "\n",
        "odds = []\n",
        "evens = []\n",
        "# primes = [] \n",
        "\n",
        "for number in numbers:\n",
        "\n",
        "  ## WRITE YOUR CODE IN HERE\n",
        "\n",
        "\n",
        "\n",
        "  ## END YOUR CODE HERE\n",
        "  pass"
      ],
      "metadata": {
        "id": "iTUYS9cGJ4DW"
      },
      "execution_count": null,
      "outputs": []
    },
    {
      "cell_type": "markdown",
      "source": [
        "### Optional - Find Primes"
      ],
      "metadata": {
        "id": "UmWpFktpMm08"
      }
    },
    {
      "cell_type": "code",
      "source": [
        "for number in numbers:\n",
        "\n",
        "  ## WRITE YOUR CODE IN HERE\n",
        "\n",
        "\n",
        "\n",
        "  ## END YOUR CODE HERE\n",
        "  \n",
        "  pass"
      ],
      "metadata": {
        "id": "5RItEH9LMSDD"
      },
      "execution_count": null,
      "outputs": []
    },
    {
      "cell_type": "markdown",
      "source": [
        "## Strings\n",
        "\n",
        "We have introduced in the last lab session what `string` is and what we can do with them. However, we are going to be more creative with what we can do with them!\n",
        "\n",
        "We will be doing:\n",
        "- concat\n",
        "- slicing\n",
        "- reversal\n",
        "- split\n",
        "- join\n",
        "- encryption"
      ],
      "metadata": {
        "id": "NMtg22uVas4-"
      }
    },
    {
      "cell_type": "code",
      "source": [
        "string = \"Hello World!\""
      ],
      "metadata": {
        "id": "qCI0xq6GuK6y"
      },
      "execution_count": null,
      "outputs": []
    },
    {
      "cell_type": "markdown",
      "source": [
        "Strings are python object which can be used in various ways along the syntax of a programming language\n",
        "\n",
        "- You can concatenate them"
      ],
      "metadata": {
        "id": "v6w4510oODZf"
      }
    },
    {
      "cell_type": "code",
      "source": [
        "name = \"Karahan\"\n",
        "surname = \"Şahin\""
      ],
      "metadata": {
        "id": "95iijo1VOooN"
      },
      "execution_count": null,
      "outputs": []
    },
    {
      "cell_type": "code",
      "source": [
        "name + \" \" + surname"
      ],
      "metadata": {
        "id": "USQQjsEwOolZ"
      },
      "execution_count": null,
      "outputs": []
    },
    {
      "cell_type": "markdown",
      "source": [
        "But you cannot delete or divide them"
      ],
      "metadata": {
        "id": "afYLuLDpQNpT"
      }
    },
    {
      "cell_type": "code",
      "source": [
        "\"hello\" - 3"
      ],
      "metadata": {
        "id": "rYUejI5-QUWF"
      },
      "execution_count": null,
      "outputs": []
    },
    {
      "cell_type": "code",
      "source": [
        "\"hello\" / \"h\""
      ],
      "metadata": {
        "id": "WbvM-_2VQWgq"
      },
      "execution_count": null,
      "outputs": []
    },
    {
      "cell_type": "markdown",
      "source": [
        "But, weirdly you can multiply them"
      ],
      "metadata": {
        "id": "jrWC1WvGQeo5"
      }
    },
    {
      "cell_type": "code",
      "source": [
        "(\"Yadi \" * 3) + \"Ya\""
      ],
      "metadata": {
        "id": "WCI9nA03OBpZ"
      },
      "execution_count": null,
      "outputs": []
    },
    {
      "cell_type": "markdown",
      "source": [
        "So what we do lists, we can do it in strings such as slicing since we have mentioned that strings are the containers that composed of lists of character"
      ],
      "metadata": {
        "id": "ekMMNCXWeo9l"
      }
    },
    {
      "cell_type": "code",
      "source": [
        "\"hello\"[0:4]"
      ],
      "metadata": {
        "id": "cCcQwBWRfKWh"
      },
      "execution_count": null,
      "outputs": []
    },
    {
      "cell_type": "markdown",
      "source": [
        "or we can reverse them"
      ],
      "metadata": {
        "id": "QSdLX1TCfgh1"
      }
    },
    {
      "cell_type": "code",
      "source": [
        "\"hello\"[-1:-6:-1]"
      ],
      "metadata": {
        "id": "uWz34pRIfO9T"
      },
      "execution_count": null,
      "outputs": []
    },
    {
      "cell_type": "markdown",
      "source": [
        "an easier way"
      ],
      "metadata": {
        "id": "vvoYTBlWeI6h"
      }
    },
    {
      "cell_type": "code",
      "source": [
        "\"hello\"[::-1]"
      ],
      "metadata": {
        "id": "Oatz1S3WeDIO"
      },
      "execution_count": null,
      "outputs": []
    },
    {
      "cell_type": "markdown",
      "source": [
        "### String Methods\n",
        "\n",
        "We will be seen the most used ones\n",
        "\n",
        "1. .join()\n",
        "1. .split()"
      ],
      "metadata": {
        "id": "QOp3Fr-CvqfW"
      }
    },
    {
      "cell_type": "markdown",
      "source": [
        "So we know that we can concatenate strings with `+` sign as"
      ],
      "metadata": {
        "id": "d5h4WieaduTz"
      }
    },
    {
      "cell_type": "code",
      "source": [
        "\"Baby\" + \" \" + \"Yoda\""
      ],
      "metadata": {
        "id": "xRTcOBVCS8Vj"
      },
      "execution_count": null,
      "outputs": []
    },
    {
      "cell_type": "markdown",
      "source": [
        "But what do we if we want to concatenate multiple strings?"
      ],
      "metadata": {
        "id": "woVhlZBGd72s"
      }
    },
    {
      "cell_type": "code",
      "source": [
        "\"Baby\" + \" \" + \"Boba\" + \" \" + \"Obi Wan\" + \" \" + \"Anakin\" + \" \" + \"Padme\""
      ],
      "metadata": {
        "id": "KD2VGuktS8LK"
      },
      "execution_count": null,
      "outputs": []
    },
    {
      "cell_type": "markdown",
      "source": [
        "or we can use `.join()` method"
      ],
      "metadata": {
        "id": "1TjrYwD2eXrJ"
      }
    },
    {
      "cell_type": "code",
      "source": [
        "star_wars_characters = \" \".join([\"Baby\", \"Boba\", \"Obi_Wan\", \"Anakin\", \"Padme\"])"
      ],
      "metadata": {
        "id": "y4jVGqHJeagL"
      },
      "execution_count": null,
      "outputs": []
    },
    {
      "cell_type": "markdown",
      "source": [
        "or maybe we got a string like a `star_wars_characters` and we need to get the each character name\n",
        "\n"
      ],
      "metadata": {
        "id": "h3j8CnPWeg71"
      }
    },
    {
      "cell_type": "code",
      "source": [
        "star_wars_characters.split(\" \")"
      ],
      "metadata": {
        "id": "6q6cOdHAf3mi"
      },
      "execution_count": null,
      "outputs": []
    },
    {
      "cell_type": "markdown",
      "source": [
        "### Q3 - Spacebar as 1\n",
        "\n",
        "Your space has been acting super weird lately. When you press it, it writes \"1\" character. In order to communicate with other, write a code that takes your sentence and turns it into regular one"
      ],
      "metadata": {
        "id": "iWR0oC6DKoGv"
      }
    },
    {
      "cell_type": "code",
      "source": [
        "sentence = \"I1think1computational1linguistics1is1beautiful!!!!\""
      ],
      "metadata": {
        "id": "SDD4sBSZNFPS"
      },
      "execution_count": null,
      "outputs": []
    },
    {
      "cell_type": "code",
      "source": [
        "better_sentence = ..."
      ],
      "metadata": {
        "id": "ZQRX7M0dNPEZ"
      },
      "execution_count": null,
      "outputs": []
    },
    {
      "cell_type": "markdown",
      "source": [
        "## A Little Decryption\n",
        "\n",
        "A little decypring with our information of strings\n",
        "\n",
        "- Split from \"nlp\" word\n",
        "- Get the odd numbered character starting from second index\n",
        "- And concatenate with space"
      ],
      "metadata": {
        "id": "4Dzt02oNTQ3l"
      }
    },
    {
      "cell_type": "code",
      "source": [
        "secret_message = \"hucvovmvpvuvtvavtvivovnvavlnlpimleienegeueieseteiecesnlpycirsnlpmxfwuwn\""
      ],
      "metadata": {
        "id": "aHWvL9K2TToE"
      },
      "execution_count": null,
      "outputs": []
    },
    {
      "cell_type": "code",
      "source": [
        "# YOUR TURN"
      ],
      "metadata": {
        "id": "5eOr6F98W7Zr"
      },
      "execution_count": null,
      "outputs": []
    },
    {
      "cell_type": "markdown",
      "source": [
        "## Dictionary\n",
        "\n",
        "Dictionaries also known as `dict()` objects are the containers in Python like `lists`. However, the difference is that dictionary item are consist of `key-value pairs` rather than lists are only consists of python objects. \n",
        "\n",
        "List"
      ],
      "metadata": {
        "id": "OWlNUFQwvRd8"
      }
    },
    {
      "cell_type": "code",
      "source": [
        "dictionary = {\n",
        "    \"key_1\": 1,\n",
        "    \"key_2\": 2,\n",
        "    \"key_3\": 3\n",
        "}"
      ],
      "metadata": {
        "id": "uco466N3vR5D"
      },
      "execution_count": null,
      "outputs": []
    },
    {
      "cell_type": "markdown",
      "source": [
        "We can obtain the values within dictionaries using their keys"
      ],
      "metadata": {
        "id": "QULyptj6Eegz"
      }
    },
    {
      "cell_type": "code",
      "source": [
        "dictionary[\"key_1\"]"
      ],
      "metadata": {
        "id": "iVm19X5-EA3y"
      },
      "execution_count": null,
      "outputs": []
    },
    {
      "cell_type": "markdown",
      "source": [
        "However, not the other way around"
      ],
      "metadata": {
        "id": "OnQ44rO5ErJI"
      }
    },
    {
      "cell_type": "code",
      "source": [
        "dictionary[1]"
      ],
      "metadata": {
        "id": "AYRDKYqHETyV"
      },
      "execution_count": null,
      "outputs": []
    },
    {
      "cell_type": "markdown",
      "source": [
        "### Dictionary Methods\n",
        "\n",
        "For a better use, dictionary object provides methods that can be used in  \n",
        "\n",
        "1. .keys() -> Only returns the list of keys used in the dictionary\n",
        "1. .values() -> Only returns the list of values used in the dictionary\n",
        "1. .items() -> Returns the list of key-values pairs used in the dictionary"
      ],
      "metadata": {
        "id": "JAzM7VFyvtBf"
      }
    },
    {
      "cell_type": "code",
      "source": [
        "dictionary.keys()"
      ],
      "metadata": {
        "id": "Sq1cCNKHv4NE"
      },
      "execution_count": null,
      "outputs": []
    },
    {
      "cell_type": "code",
      "source": [
        "dictionary.values()"
      ],
      "metadata": {
        "id": "bWGna-tnv6Vc"
      },
      "execution_count": null,
      "outputs": []
    },
    {
      "cell_type": "code",
      "source": [
        "dictionary.items()"
      ],
      "metadata": {
        "id": "EvJ8n303v9B6"
      },
      "execution_count": null,
      "outputs": []
    },
    {
      "cell_type": "markdown",
      "source": [
        "Dictionary are used in programming languages for various reason. However, the main usage is that the dictionaries enable to have tidy collection of information within one object"
      ],
      "metadata": {
        "id": "RYnAKKbEDBS0"
      }
    },
    {
      "cell_type": "code",
      "source": [
        "first_names = [\"Baby\", \"Boba\", \"Obi Wan\", \"Anakin\"]\n",
        "last_names = [\"Yoda\", \"Fett\", \"Kenobi\", \"Skywalker\"]"
      ],
      "metadata": {
        "id": "kUpXA_2VDZ9m"
      },
      "execution_count": null,
      "outputs": []
    },
    {
      "cell_type": "markdown",
      "source": [
        "But it is easier when"
      ],
      "metadata": {
        "id": "rqJJkjRrDBLI"
      }
    },
    {
      "cell_type": "code",
      "source": [
        "star_wars_characters = {\n",
        "    \"First Name\": [\"Baby\", \"Boba\", \"Obi Wan\", \"Anakin\"],\n",
        "    \"Last Name\":  [\"Yoda\", \"Fett\", \"Kenobi\", \"Skywalker\"]\n",
        "}"
      ],
      "metadata": {
        "id": "YASHmBqSDsyQ"
      },
      "execution_count": null,
      "outputs": []
    },
    {
      "cell_type": "code",
      "source": [
        "star_wars_characters[\"First Name\"]"
      ],
      "metadata": {
        "id": "CUy63TBAD_1R"
      },
      "execution_count": null,
      "outputs": []
    },
    {
      "cell_type": "markdown",
      "source": [
        "### Q4 - Write on the Dictionary"
      ],
      "metadata": {
        "id": "_BVupfIEJrxt"
      }
    },
    {
      "cell_type": "code",
      "source": [
        "star_war_character = {\n",
        "    \"Yoda\": 22,\n",
        "    \"Fett\": 19,\n",
        "    \"Kenobi\": 20,\n",
        "    \"Skywalker\": 34\n",
        "}"
      ],
      "metadata": {
        "id": "zxfOBgx2IjNR"
      },
      "execution_count": null,
      "outputs": []
    },
    {
      "cell_type": "code",
      "source": [
        "first_names = [\"Baby\", \"Boba\", \"Obi Wan\", \"Anakin\"]"
      ],
      "metadata": {
        "id": "jNeGwTjLIMNx"
      },
      "execution_count": null,
      "outputs": []
    },
    {
      "cell_type": "code",
      "source": [
        "# Add characters their initials with a loop\n",
        "\n",
        "for f_name in first_names:\n",
        "\n",
        "  # WRITE YOUR CODE\n",
        "\n",
        "\n",
        "\n",
        "  # END YOUR CODE\n",
        "  pass"
      ],
      "metadata": {
        "id": "MUt0oer7JIH0"
      },
      "execution_count": null,
      "outputs": []
    },
    {
      "cell_type": "markdown",
      "source": [
        "## Practice"
      ],
      "metadata": {
        "id": "r0hDofc_ZF1H"
      }
    },
    {
      "cell_type": "markdown",
      "source": [
        "### Practice 2 \n",
        "\n",
        "Create a list from 1 to 10 and get the odds and evens into different lists"
      ],
      "metadata": {
        "id": "8ZLkMCIEeR_I"
      }
    },
    {
      "cell_type": "code",
      "source": [
        ""
      ],
      "metadata": {
        "id": "5BtOc1G5eRV0"
      },
      "execution_count": null,
      "outputs": []
    }
  ],
  "metadata": {
    "colab": {
      "name": "LING360 - Lab 02",
      "provenance": [],
      "collapsed_sections": []
    },
    "kernelspec": {
      "display_name": "Python 3",
      "name": "python3"
    }
  },
  "nbformat": 4,
  "nbformat_minor": 0
}