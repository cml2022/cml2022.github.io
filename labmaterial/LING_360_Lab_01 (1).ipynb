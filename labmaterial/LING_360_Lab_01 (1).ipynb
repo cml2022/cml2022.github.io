{
  "cells": [
    {
      "cell_type": "markdown",
      "source": [
        "# LAB 01: Python Intro\n",
        "\n",
        "Python is a great general-purpose programming language on its own, but with the help of a few popular libraries (numpy, scipy, matplotlib) it becomes a powerful environment for scientific computing.\n",
        "\n",
        "<br><br>\n",
        "\n",
        "**We will use Python (version 3) in LING360 because:**\n",
        "\n",
        "*   Python has an easy to learn syntax\n",
        "*   Most NLP programs are written in Python\n",
        "*   There are a lot of readily available packages for use\n",
        "*   Majority of Machine Learning / Deep Learning tools are built with Python \n",
        "\n",
        "<br><br>\n",
        "\n",
        "Today we will cover:\n",
        "\n",
        "- Variables & Basic Data Types (*Number, String, Boolean*)\n",
        "- Printing and Fancy Printing\n",
        "- Python Syntax (`object.method()` or `function(object)`)\n",
        "- Automation\n",
        "- Conditionals \n",
        "\n",
        "<br>\n",
        "\n",
        "If you have any questions, you can send an email to either `utku.turk@boun.edu.tr` or `karahan.sahin@boun.edu.tr`\n"
      ],
      "metadata": {
        "id": "bnC_IoQaFZDm"
      }
    },
    {
      "cell_type": "markdown",
      "source": [
        "## Lab Material\n",
        "\n",
        "Python is basically a fancy calculator. You can print out stuff, you can also just do math or logic."
      ],
      "metadata": {
        "id": "8YSm5vHtMk1m"
      }
    },
    {
      "cell_type": "code",
      "execution_count": null,
      "metadata": {
        "colab": {
          "base_uri": "https://localhost:8080/",
          "height": 35
        },
        "id": "lIYdn1woOS1n",
        "outputId": "cae6285a-93d0-49eb-b82f-805c000f81bb"
      },
      "outputs": [
        {
          "output_type": "execute_result",
          "data": {
            "application/vnd.google.colaboratory.intrinsic+json": {
              "type": "string"
            },
            "text/plain": [
              "'Yade'"
            ]
          },
          "metadata": {},
          "execution_count": 4
        }
      ],
      "source": [
        "\"Yade\""
      ]
    },
    {
      "cell_type": "code",
      "source": [
        "# And If you put \"hashtag\" before it\n",
        "# It will not do anything since they are comands."
      ],
      "metadata": {
        "id": "ZOFHs7ByYk2K"
      },
      "execution_count": null,
      "outputs": []
    },
    {
      "cell_type": "code",
      "source": [
        "# or \n",
        "print(\"Yade\")"
      ],
      "metadata": {
        "colab": {
          "base_uri": "https://localhost:8080/"
        },
        "id": "Ck11sjBWPVUo",
        "outputId": "14e4a7f2-5595-450f-dd42-1c7a83ce60b2"
      },
      "execution_count": null,
      "outputs": [
        {
          "output_type": "stream",
          "name": "stdout",
          "text": [
            "Yade\n"
          ]
        }
      ]
    },
    {
      "cell_type": "code",
      "source": [
        "# plus\n",
        "52191+1 "
      ],
      "metadata": {
        "id": "cK1X_SuKNxBS",
        "outputId": "e9243c54-344f-4c64-bdb6-6bb38b61d920",
        "colab": {
          "base_uri": "https://localhost:8080/"
        }
      },
      "execution_count": null,
      "outputs": [
        {
          "output_type": "execute_result",
          "data": {
            "text/plain": [
              "52192"
            ]
          },
          "metadata": {},
          "execution_count": 6
        }
      ]
    },
    {
      "cell_type": "code",
      "source": [
        "# division\n",
        "52191/2"
      ],
      "metadata": {
        "id": "CiqGaBNYNyLh",
        "outputId": "1eb0c6c7-553b-4573-d070-162bd1457aed",
        "colab": {
          "base_uri": "https://localhost:8080/"
        }
      },
      "execution_count": null,
      "outputs": [
        {
          "output_type": "execute_result",
          "data": {
            "text/plain": [
              "26095.5"
            ]
          },
          "metadata": {},
          "execution_count": 3
        }
      ]
    },
    {
      "cell_type": "code",
      "source": [
        "# floor division\n",
        "52191//2"
      ],
      "metadata": {
        "colab": {
          "base_uri": "https://localhost:8080/"
        },
        "id": "96Q4jbW7YwlZ",
        "outputId": "3b79946c-27f7-4c2d-d84a-b6fccdea8a7b"
      },
      "execution_count": null,
      "outputs": [
        {
          "output_type": "execute_result",
          "data": {
            "text/plain": [
              "26095"
            ]
          },
          "metadata": {},
          "execution_count": 2
        }
      ]
    },
    {
      "cell_type": "code",
      "source": [
        "True and False"
      ],
      "metadata": {
        "id": "x-L8k0B5OSPy",
        "outputId": "f2a3a0b6-bff0-4c3a-d8e2-78b961ff8107",
        "colab": {
          "base_uri": "https://localhost:8080/"
        }
      },
      "execution_count": null,
      "outputs": [
        {
          "output_type": "execute_result",
          "data": {
            "text/plain": [
              "False"
            ]
          },
          "metadata": {},
          "execution_count": 8
        }
      ]
    },
    {
      "cell_type": "markdown",
      "source": [
        "You can also go one level more abstract. Instead of directly using a specific string or number, you can use a **variable** name. "
      ],
      "metadata": {
        "id": "7KfuD9nhOI-y"
      }
    },
    {
      "cell_type": "code",
      "source": [
        "interesting_number = 52191"
      ],
      "metadata": {
        "id": "CV1bGkslOH-x"
      },
      "execution_count": null,
      "outputs": []
    },
    {
      "cell_type": "markdown",
      "source": [
        "Now whenever I use the name `interesting_number`, it will use `52191`."
      ],
      "metadata": {
        "id": "Xlh3dXNjOvwR"
      }
    },
    {
      "cell_type": "code",
      "source": [
        "interesting_number * 100"
      ],
      "metadata": {
        "id": "VLr38vRyOvXz",
        "outputId": "fd462149-d3e5-4a18-eabb-4242282b69a9",
        "colab": {
          "base_uri": "https://localhost:8080/"
        }
      },
      "execution_count": null,
      "outputs": [
        {
          "output_type": "execute_result",
          "data": {
            "text/plain": [
              "5219100"
            ]
          },
          "metadata": {},
          "execution_count": 10
        }
      ]
    },
    {
      "cell_type": "markdown",
      "source": [
        "It is also possible for strings:"
      ],
      "metadata": {
        "id": "JmVt4uQeO-5U"
      }
    },
    {
      "cell_type": "code",
      "source": [
        "interesting_name = \"Yade\""
      ],
      "metadata": {
        "id": "af22oAQYO-re"
      },
      "execution_count": null,
      "outputs": []
    },
    {
      "cell_type": "code",
      "source": [
        "print(\"Merhaba\", interesting_name)"
      ],
      "metadata": {
        "colab": {
          "base_uri": "https://localhost:8080/"
        },
        "id": "OoXYgHfZPRT2",
        "outputId": "cb61264c-ae5b-48c2-9280-465bd58ff8a3"
      },
      "execution_count": null,
      "outputs": [
        {
          "output_type": "stream",
          "name": "stdout",
          "text": [
            "Merhaba Yade\n"
          ]
        }
      ]
    },
    {
      "cell_type": "code",
      "source": [
        "\"Merhaba\" + \" \" + interesting_name"
      ],
      "metadata": {
        "colab": {
          "base_uri": "https://localhost:8080/",
          "height": 35
        },
        "id": "UlcGK6N2Prj8",
        "outputId": "55472a55-f93b-4a8e-dabb-b7b5c84c0ee0"
      },
      "execution_count": null,
      "outputs": [
        {
          "output_type": "execute_result",
          "data": {
            "application/vnd.google.colaboratory.intrinsic+json": {
              "type": "string"
            },
            "text/plain": [
              "'Merhaba Yade'"
            ]
          },
          "metadata": {},
          "execution_count": 14
        }
      ]
    },
    {
      "cell_type": "code",
      "source": [
        "# Or you can be more fancy:\n",
        "print(f\"Merhaba {interesting_name}\")"
      ],
      "metadata": {
        "colab": {
          "base_uri": "https://localhost:8080/"
        },
        "id": "lrF_W4eUPi5x",
        "outputId": "c008d5b6-024b-4b90-8106-911c69713d7a"
      },
      "execution_count": null,
      "outputs": [
        {
          "output_type": "stream",
          "name": "stdout",
          "text": [
            "Merhaba Yade\n"
          ]
        }
      ]
    },
    {
      "cell_type": "markdown",
      "source": [
        "What you can also do is you can do operations on variables, using certain verbs. (Check list this for more: [W3 Methods](https://www.w3schools.com/python/python_ref_string.asp).)"
      ],
      "metadata": {
        "id": "2ZdxTaUHP9kT"
      }
    },
    {
      "cell_type": "code",
      "source": [
        "interesting_name.upper()"
      ],
      "metadata": {
        "colab": {
          "base_uri": "https://localhost:8080/",
          "height": 35
        },
        "id": "sK3kDH03P9Mm",
        "outputId": "4b57b62b-e00f-463b-a27b-95d79bf5650b"
      },
      "execution_count": null,
      "outputs": [
        {
          "output_type": "execute_result",
          "data": {
            "application/vnd.google.colaboratory.intrinsic+json": {
              "type": "string"
            },
            "text/plain": [
              "'YADE'"
            ]
          },
          "metadata": {},
          "execution_count": 16
        }
      ]
    },
    {
      "cell_type": "markdown",
      "source": [
        "You can also use this in other functions like `print()`."
      ],
      "metadata": {
        "id": "fVCViDH7QZPT"
      }
    },
    {
      "cell_type": "code",
      "source": [
        "print(interesting_name.upper(), \"yapma!\")"
      ],
      "metadata": {
        "colab": {
          "base_uri": "https://localhost:8080/"
        },
        "id": "xZ7T64XfQVr8",
        "outputId": "1b72dfe5-0ecf-4659-faa9-ed8c90ca721b"
      },
      "execution_count": null,
      "outputs": [
        {
          "output_type": "stream",
          "name": "stdout",
          "text": [
            "YADE yapma!\n"
          ]
        }
      ]
    },
    {
      "cell_type": "markdown",
      "source": [
        "Or you can create a new variable:"
      ],
      "metadata": {
        "id": "cvKP69H4QymS"
      }
    },
    {
      "cell_type": "code",
      "source": [
        "interesting_name_caps = interesting_name.upper()\n",
        "\n",
        "print(f\"{interesting_name_caps} yapma!\")"
      ],
      "metadata": {
        "colab": {
          "base_uri": "https://localhost:8080/"
        },
        "id": "JzgkG5xwQ3FG",
        "outputId": "ba0fe27a-4a9a-49dd-e090-70ce32005d34"
      },
      "execution_count": null,
      "outputs": [
        {
          "output_type": "stream",
          "name": "stdout",
          "text": [
            "YADE yapma!\n"
          ]
        }
      ]
    },
    {
      "cell_type": "markdown",
      "source": [
        "What if you have more than one person to get angry?\n",
        "\n",
        "You can put all of the culprits into one single container, in this case a `list`. And, then you can refer to them according to the positions in the list. "
      ],
      "metadata": {
        "id": "U8Pyx5o-RXpu"
      }
    },
    {
      "cell_type": "code",
      "source": [
        "culprits = [\"Yade\", \"Erce\", \"Oya\"]"
      ],
      "metadata": {
        "id": "aTCzPIrBRey4"
      },
      "execution_count": null,
      "outputs": []
    },
    {
      "cell_type": "code",
      "source": [
        "print(f\"{culprits[0]} yapma!\")\n",
        "print(f\"{culprits[1]} yapma!\")\n",
        "print(f\"{culprits[2]} yapma!\")"
      ],
      "metadata": {
        "colab": {
          "base_uri": "https://localhost:8080/"
        },
        "id": "EcSHsnlUSNG7",
        "outputId": "362f08e5-288f-4180-ce58-9b7cfddbb836"
      },
      "execution_count": null,
      "outputs": [
        {
          "output_type": "stream",
          "name": "stdout",
          "text": [
            "Yade yapma!\n",
            "Erce yapma!\n",
            "Oya yapma!\n"
          ]
        }
      ]
    },
    {
      "cell_type": "markdown",
      "source": [
        "We can also access `strings` in the same manner since, they are one single container of letters."
      ],
      "metadata": {
        "id": "_oyWZ3S2cyum"
      }
    },
    {
      "cell_type": "code",
      "source": [
        "interesting_string = \"Yoda\""
      ],
      "metadata": {
        "id": "Lrm9nZDHcyGu"
      },
      "execution_count": null,
      "outputs": []
    },
    {
      "cell_type": "code",
      "source": [
        "print(f\"{interesting_string[0]}\")\n",
        "print(f\"{interesting_string[1]}\")\n",
        "print(f\"{interesting_string[2]}\")\n",
        "print(f\"{interesting_string[3]}\")"
      ],
      "metadata": {
        "colab": {
          "base_uri": "https://localhost:8080/"
        },
        "id": "veFg1eTSdfxe",
        "outputId": "ca1671a5-c0ba-44b3-f1f3-04703e25604e"
      },
      "execution_count": null,
      "outputs": [
        {
          "output_type": "stream",
          "name": "stdout",
          "text": [
            "Y\n",
            "o\n",
            "d\n",
            "a\n"
          ]
        }
      ]
    },
    {
      "cell_type": "markdown",
      "source": [
        "What if you have just too many items to go one by one?"
      ],
      "metadata": {
        "id": "4ySZv4ATSvO0"
      }
    },
    {
      "cell_type": "code",
      "source": [
        "for culprit in culprits:\n",
        "  print(f\"{culprit} yapma!\")"
      ],
      "metadata": {
        "colab": {
          "base_uri": "https://localhost:8080/"
        },
        "id": "o0f-QjIgYT8b",
        "outputId": "9c8048f9-30e0-45de-b068-738656895de5"
      },
      "execution_count": null,
      "outputs": [
        {
          "output_type": "stream",
          "name": "stdout",
          "text": [
            "Yade yapma!\n",
            "Erce yapma!\n",
            "Oya yapma!\n"
          ]
        }
      ]
    },
    {
      "cell_type": "markdown",
      "source": [
        "What we do is that we access each item in a container one by one.\n",
        "\n",
        "Another way to access to each item is to go over all positions, which are also called `indices` in a container."
      ],
      "metadata": {
        "id": "NepcpZzSfYOp"
      }
    },
    {
      "cell_type": "code",
      "source": [
        "culprit_positions = [0,1,2]"
      ],
      "metadata": {
        "id": "Mm-FroVQhtA-"
      },
      "execution_count": null,
      "outputs": []
    },
    {
      "cell_type": "code",
      "source": [
        "for position in culprit_positions:\n",
        "  print(f\"{culprits[position]} yapma!\")"
      ],
      "metadata": {
        "colab": {
          "base_uri": "https://localhost:8080/"
        },
        "id": "bZRJfT1WfWNQ",
        "outputId": "cad8e9a6-d624-40dc-8031-7c8b5071a472"
      },
      "execution_count": null,
      "outputs": [
        {
          "output_type": "stream",
          "name": "stdout",
          "text": [
            "Yade yapma!\n",
            "Erce yapma!\n",
            "Oya yapma!\n"
          ]
        }
      ]
    },
    {
      "cell_type": "markdown",
      "source": [
        "So, we can do same with strings!"
      ],
      "metadata": {
        "id": "G3Y_8Q1khvGI"
      }
    },
    {
      "cell_type": "code",
      "source": [
        "interesting_string_positions = [0,1,2,3]"
      ],
      "metadata": {
        "id": "dVc-E2-Ahuq2"
      },
      "execution_count": null,
      "outputs": []
    },
    {
      "cell_type": "code",
      "source": [
        "for position in interesting_string_positions:\n",
        "  print(f\"{interesting_string[position]}\")"
      ],
      "metadata": {
        "colab": {
          "base_uri": "https://localhost:8080/"
        },
        "id": "hiCxS4cPh8ul",
        "outputId": "f44b4de3-4814-47fb-ed2f-2f5ceace6cb4"
      },
      "execution_count": null,
      "outputs": [
        {
          "output_type": "stream",
          "name": "stdout",
          "text": [
            "Y\n",
            "o\n",
            "d\n",
            "a\n"
          ]
        }
      ]
    },
    {
      "cell_type": "markdown",
      "source": [
        "One additional note that the positions can be also found in reverse order\n",
        "<br>\n",
        "<img src=\"https://media.geeksforgeeks.org/wp-content/uploads/20191220092949/slice.jpg\">"
      ],
      "metadata": {
        "id": "aT1bSSEbgouG"
      }
    },
    {
      "cell_type": "code",
      "source": [
        "interesting_string_positions = [-1,-2,-3,-4]"
      ],
      "metadata": {
        "id": "0IKfRJx-inZm"
      },
      "execution_count": null,
      "outputs": []
    },
    {
      "cell_type": "code",
      "source": [
        "for position in interesting_string_positions:\n",
        "  print(f\"{interesting_string[position]}\")"
      ],
      "metadata": {
        "colab": {
          "base_uri": "https://localhost:8080/"
        },
        "outputId": "ac0e0bcf-8913-4838-f5f7-da53d2b7d2ac",
        "id": "BrBu4ccainZt"
      },
      "execution_count": null,
      "outputs": [
        {
          "output_type": "stream",
          "name": "stdout",
          "text": [
            "a\n",
            "d\n",
            "o\n",
            "Y\n"
          ]
        }
      ]
    },
    {
      "cell_type": "markdown",
      "source": [
        "# Exercises"
      ],
      "metadata": {
        "id": "U1Rz6znOcCsp"
      }
    },
    {
      "cell_type": "markdown",
      "source": [
        "### TASK 1\n",
        "\n",
        "Assign your name to a variable called `my_name` and print it. \n",
        "\n",
        "You should get something like `Yade` not `\"Yade\"` nor `'Yade'`."
      ],
      "metadata": {
        "id": "RQ5EmSr6cJpv"
      }
    },
    {
      "cell_type": "code",
      "source": [
        ""
      ],
      "metadata": {
        "id": "bRsWJ_7ccH9y"
      },
      "execution_count": null,
      "outputs": []
    },
    {
      "cell_type": "markdown",
      "source": [
        "### TASK 2\n",
        "\n",
        "Assign your school ID to a variable called `my_boun_id` \n",
        "\n",
        "and\n",
        "\n",
        "print a statement saying that your school ID is 20XXXXXXX using printf."
      ],
      "metadata": {
        "id": "9Vjn-LgvcZy3"
      }
    },
    {
      "cell_type": "code",
      "source": [
        ""
      ],
      "metadata": {
        "id": "to4R4wdscy_-"
      },
      "execution_count": null,
      "outputs": []
    },
    {
      "cell_type": "markdown",
      "source": [
        "### TASK 3\n",
        "\n",
        "Apply a different method to your name and school id and print those. (Methods [link text](https://www.w3schools.com/python/python_ref_string.asp))"
      ],
      "metadata": {
        "id": "q2ogDbKKczke"
      }
    },
    {
      "cell_type": "code",
      "source": [
        ""
      ],
      "metadata": {
        "id": "2ivl29v_dSU-"
      },
      "execution_count": null,
      "outputs": []
    },
    {
      "cell_type": "markdown",
      "source": [
        "### TASK 4\n",
        "\n",
        "Assign your surname to a variable called `my_surname`.\n",
        "\n",
        "Put your name and surname into a list called `my_full_name`.\n",
        "\n",
        "Using this list print your initials. \n",
        "\n",
        "You should have a statement like the following:\n",
        "\n",
        "```\n",
        "U\n",
        "T\n",
        "```"
      ],
      "metadata": {
        "id": "2LXtFKp3dS90"
      }
    },
    {
      "cell_type": "code",
      "source": [
        ""
      ],
      "metadata": {
        "id": "_UoEOscedtjG"
      },
      "execution_count": null,
      "outputs": []
    }
  ],
  "metadata": {
    "colab": {
      "name": "LING 360 - Lab 01",
      "provenance": [],
      "collapsed_sections": []
    },
    "kernelspec": {
      "display_name": "Python 3",
      "name": "python3"
    }
  },
  "nbformat": 4,
  "nbformat_minor": 0
}